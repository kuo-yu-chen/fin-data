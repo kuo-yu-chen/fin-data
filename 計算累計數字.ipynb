{
  "nbformat": 4,
  "nbformat_minor": 0,
  "metadata": {
    "colab": {
      "provenance": [],
      "authorship_tag": "ABX9TyNx2W/rkF53nlLOkAPw2Ruj",
      "include_colab_link": true
    },
    "kernelspec": {
      "name": "python3",
      "display_name": "Python 3"
    },
    "language_info": {
      "name": "python"
    }
  },
  "cells": [
    {
      "cell_type": "markdown",
      "metadata": {
        "id": "view-in-github",
        "colab_type": "text"
      },
      "source": [
        "<a href=\"https://colab.research.google.com/github/kuo-yu-chen/fin-data/blob/main/%E8%A8%88%E7%AE%97%E7%B4%AF%E8%A8%88%E6%95%B8%E5%AD%97.ipynb\" target=\"_parent\"><img src=\"https://colab.research.google.com/assets/colab-badge.svg\" alt=\"Open In Colab\"/></a>"
      ]
    },
    {
      "cell_type": "markdown",
      "source": [
        "台肥累計數字計算"
      ],
      "metadata": {
        "id": "oea1XUxihEQ2"
      }
    },
    {
      "cell_type": "code",
      "execution_count": 18,
      "metadata": {
        "id": "yV0OgFFqeeve"
      },
      "outputs": [],
      "source": [
        "Q1 = 3433462"
      ]
    },
    {
      "cell_type": "code",
      "source": [
        "Q2 = 6031135"
      ],
      "metadata": {
        "id": "98ci_lB3fKXa"
      },
      "execution_count": 19,
      "outputs": []
    },
    {
      "cell_type": "code",
      "source": [
        "Q3 = 2918197"
      ],
      "metadata": {
        "id": "3yyEErcrfNWy"
      },
      "execution_count": 20,
      "outputs": []
    },
    {
      "cell_type": "code",
      "source": [
        "Q4 = 2631994"
      ],
      "metadata": {
        "id": "WswXhWEjfb3T"
      },
      "execution_count": 21,
      "outputs": []
    },
    {
      "cell_type": "code",
      "source": [
        "ACC_Q1 = Q1\n",
        "print (ACC_Q1)"
      ],
      "metadata": {
        "colab": {
          "base_uri": "https://localhost:8080/"
        },
        "id": "qqstDt6_fgu4",
        "outputId": "5c51db61-3e73-4510-e037-525420d4af1a"
      },
      "execution_count": 22,
      "outputs": [
        {
          "output_type": "stream",
          "name": "stdout",
          "text": [
            "3433462\n"
          ]
        }
      ]
    },
    {
      "cell_type": "code",
      "source": [
        "ACC_Q2 = Q1 + Q2\n",
        "print(ACC_Q2)"
      ],
      "metadata": {
        "colab": {
          "base_uri": "https://localhost:8080/"
        },
        "id": "mXelCck9f1Oc",
        "outputId": "b7205b08-a8a2-4dc2-ff89-f603cfa1737b"
      },
      "execution_count": 24,
      "outputs": [
        {
          "output_type": "stream",
          "name": "stdout",
          "text": [
            "9464597\n"
          ]
        }
      ]
    },
    {
      "cell_type": "code",
      "source": [
        "ACC_Q3 = Q1 + Q2 + Q3\n",
        "print(ACC_Q3)"
      ],
      "metadata": {
        "colab": {
          "base_uri": "https://localhost:8080/"
        },
        "id": "iJox8YZegswk",
        "outputId": "bd319f5a-7af3-46d9-cb28-3097d8914c2c"
      },
      "execution_count": 25,
      "outputs": [
        {
          "output_type": "stream",
          "name": "stdout",
          "text": [
            "12382794\n"
          ]
        }
      ]
    },
    {
      "cell_type": "code",
      "source": [
        "ACC_Q4 = Q1 + Q2 + Q3 + Q4\n",
        "print(ACC_Q4)"
      ],
      "metadata": {
        "colab": {
          "base_uri": "https://localhost:8080/"
        },
        "id": "aoFF1MAZgx-0",
        "outputId": "b442d8aa-992b-4396-fa16-c39ad03d00dd"
      },
      "execution_count": 26,
      "outputs": [
        {
          "output_type": "stream",
          "name": "stdout",
          "text": [
            "15014788\n"
          ]
        }
      ]
    },
    {
      "cell_type": "markdown",
      "source": [
        "毛寶累計數字計算\n"
      ],
      "metadata": {
        "id": "owfReiU4hLc6"
      }
    },
    {
      "cell_type": "code",
      "source": [
        "Q1 = 135320"
      ],
      "metadata": {
        "id": "H_MWEfHXhO3u"
      },
      "execution_count": 27,
      "outputs": []
    },
    {
      "cell_type": "code",
      "source": [
        "Q2 = 153375"
      ],
      "metadata": {
        "id": "hYVJGLg8hVWE"
      },
      "execution_count": 28,
      "outputs": []
    },
    {
      "cell_type": "code",
      "source": [
        "Q3 = 128952"
      ],
      "metadata": {
        "id": "VHr694hQhZqU"
      },
      "execution_count": 29,
      "outputs": []
    },
    {
      "cell_type": "code",
      "source": [
        "Q4 = 136612"
      ],
      "metadata": {
        "id": "uJtfsUFthb5k"
      },
      "execution_count": 30,
      "outputs": []
    },
    {
      "cell_type": "code",
      "source": [
        "ACC_Q1 = Q1\n",
        "print (ACC_Q1)"
      ],
      "metadata": {
        "colab": {
          "base_uri": "https://localhost:8080/"
        },
        "id": "MYOrPlQwheDz",
        "outputId": "78337cfd-2be5-4b1b-af77-392017d68aab"
      },
      "execution_count": 31,
      "outputs": [
        {
          "output_type": "stream",
          "name": "stdout",
          "text": [
            "135320\n"
          ]
        }
      ]
    },
    {
      "cell_type": "code",
      "source": [
        "ACC_Q2 = Q1 + Q2\n",
        "print(ACC_Q2)"
      ],
      "metadata": {
        "colab": {
          "base_uri": "https://localhost:8080/"
        },
        "id": "DQb_w6rshgSV",
        "outputId": "4cdfacf7-44dc-4d4e-d30e-c31366407b3c"
      },
      "execution_count": 32,
      "outputs": [
        {
          "output_type": "stream",
          "name": "stdout",
          "text": [
            "288695\n"
          ]
        }
      ]
    },
    {
      "cell_type": "code",
      "source": [
        "ACC_Q3 = Q1 + Q2 + Q3\n",
        "print(ACC_Q3)"
      ],
      "metadata": {
        "colab": {
          "base_uri": "https://localhost:8080/"
        },
        "id": "ZzKhOnAxhh2N",
        "outputId": "96e0cc2d-33ac-4035-aedd-ae7875ece26d"
      },
      "execution_count": 33,
      "outputs": [
        {
          "output_type": "stream",
          "name": "stdout",
          "text": [
            "417647\n"
          ]
        }
      ]
    },
    {
      "cell_type": "code",
      "source": [
        "ACC_Q4 = Q1 + Q2 + Q3 + Q4\n",
        "print(ACC_Q4)"
      ],
      "metadata": {
        "colab": {
          "base_uri": "https://localhost:8080/"
        },
        "id": "_GtfJKnwhkPO",
        "outputId": "03ac1afc-f9c7-4211-ed0b-b772a3f79b09"
      },
      "execution_count": 34,
      "outputs": [
        {
          "output_type": "stream",
          "name": "stdout",
          "text": [
            "554259\n"
          ]
        }
      ]
    },
    {
      "cell_type": "code",
      "source": [],
      "metadata": {
        "id": "oq7agVN-hmKo"
      },
      "execution_count": null,
      "outputs": []
    }
  ]
}