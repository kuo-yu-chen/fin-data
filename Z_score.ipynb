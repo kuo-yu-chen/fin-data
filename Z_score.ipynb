{
  "nbformat": 4,
  "nbformat_minor": 0,
  "metadata": {
    "colab": {
      "provenance": [],
      "authorship_tag": "ABX9TyOfiR9HuWL+nxCeDckUnT0S",
      "include_colab_link": true
    },
    "kernelspec": {
      "name": "python3",
      "display_name": "Python 3"
    },
    "language_info": {
      "name": "python"
    }
  },
  "cells": [
    {
      "cell_type": "markdown",
      "metadata": {
        "id": "view-in-github",
        "colab_type": "text"
      },
      "source": [
        "<a href=\"https://colab.research.google.com/github/kuo-yu-chen/fin-data/blob/main/Z_score.ipynb\" target=\"_parent\"><img src=\"https://colab.research.google.com/assets/colab-badge.svg\" alt=\"Open In Colab\"/></a>"
      ]
    },
    {
      "cell_type": "code",
      "execution_count": 1,
      "metadata": {
        "id": "T6JL3HxMeqMT"
      },
      "outputs": [],
      "source": [
        "import pandas as pd"
      ]
    },
    {
      "cell_type": "code",
      "source": [
        "url = \"https://raw.githubusercontent.com/kuo-yu-chen/fin-data/refs/heads/main/balance%20sheet.csv\""
      ],
      "metadata": {
        "id": "b3I9sGCxe5Z0"
      },
      "execution_count": 2,
      "outputs": []
    },
    {
      "cell_type": "code",
      "source": [
        "df1 = pd.read_csv (url, index_col=0)"
      ],
      "metadata": {
        "id": "gM4awaR_e9XP"
      },
      "execution_count": 6,
      "outputs": []
    },
    {
      "cell_type": "code",
      "source": [
        "df1"
      ],
      "metadata": {
        "colab": {
          "base_uri": "https://localhost:8080/",
          "height": 366
        },
        "id": "qILKasrqe_Fh",
        "outputId": "ff16e44e-771c-4f2f-8ad1-96f2fd8d9750"
      },
      "execution_count": 7,
      "outputs": [
        {
          "output_type": "execute_result",
          "data": {
            "text/plain": [
              "              YYYY/MM  Quarter consolidation  Month Currency  \\\n",
              "CO_ID                                                          \n",
              "2330 TSMC     45261.0      4.0             Y   12.0      NTD   \n",
              "3231 Wistron  45261.0      4.0             Y   12.0      NTD   \n",
              "\n",
              "              Total cash and cash equivalents  \\\n",
              "CO_ID                                           \n",
              "2330 TSMC                        1.465428e+09   \n",
              "3231 Wistron                     7.523176e+07   \n",
              "\n",
              "              Total current financial assets at fair value through profit or loss  \\\n",
              "CO_ID                                                                               \n",
              "2330 TSMC                                              924636.0                     \n",
              "3231 Wistron                                          4345292.0                     \n",
              "\n",
              "              Financial assets at fair value through other comprehensive income - Current  \\\n",
              "CO_ID                                                                                       \n",
              "2330 TSMC                                           154530830.0                             \n",
              "3231 Wistron                                                0.0                             \n",
              "\n",
              "              Financial assets measured at amortized cost - Current  \\\n",
              "CO_ID                                                                 \n",
              "2330 TSMC                                            66761221.0       \n",
              "3231 Wistron                                                0.0       \n",
              "\n",
              "              Current financial assets for hedging  ...  \\\n",
              "CO_ID                                               ...   \n",
              "2330 TSMC                                      0.0  ...   \n",
              "3231 Wistron                                   0.0  ...   \n",
              "\n",
              "              Other equity - unearned compensation  Other equity, others  \\\n",
              "CO_ID                                                                      \n",
              "2330 TSMC                              (293434.00)                   0.0   \n",
              "3231 Wistron                            (99732.00)                   0.0   \n",
              "\n",
              "              Total other equity interest  Treasury shares  \\\n",
              "CO_ID                                                        \n",
              "2330 TSMC                   (28314256.00)            0.00    \n",
              "3231 Wistron                 (1934548.00)      (909789.00)   \n",
              "\n",
              "              Total equity attributable to owners of parent  \\\n",
              "CO_ID                                                         \n",
              "2330 TSMC                                      3.458914e+09   \n",
              "3231 Wistron                                   1.042241e+08   \n",
              "\n",
              "              Interests in the former associate or jointly controlled entity  \\\n",
              "CO_ID                                                                          \n",
              "2330 TSMC                                                   0.0                \n",
              "3231 Wistron                                                0.0                \n",
              "\n",
              "              Non-controlling interest in pre-acquisition share capital  \\\n",
              "CO_ID                                                                     \n",
              "2330 TSMC                                                   0.0           \n",
              "3231 Wistron                                                0.0           \n",
              "\n",
              "              Non-controlling interests  Total equity  \\\n",
              "CO_ID                                                   \n",
              "2330 TSMC                    24349220.0  3.483263e+09   \n",
              "3231 Wistron                 24539061.0  1.287632e+08   \n",
              "\n",
              "              Total liabilities & equity  \n",
              "CO_ID                                     \n",
              "2330 TSMC                   5.532371e+09  \n",
              "3231 Wistron                4.523908e+08  \n",
              "\n",
              "[2 rows x 111 columns]"
            ],
            "text/html": [
              "\n",
              "  <div id=\"df-55335821-da6c-4148-994c-b57203e585bc\" class=\"colab-df-container\">\n",
              "    <div>\n",
              "<style scoped>\n",
              "    .dataframe tbody tr th:only-of-type {\n",
              "        vertical-align: middle;\n",
              "    }\n",
              "\n",
              "    .dataframe tbody tr th {\n",
              "        vertical-align: top;\n",
              "    }\n",
              "\n",
              "    .dataframe thead th {\n",
              "        text-align: right;\n",
              "    }\n",
              "</style>\n",
              "<table border=\"1\" class=\"dataframe\">\n",
              "  <thead>\n",
              "    <tr style=\"text-align: right;\">\n",
              "      <th></th>\n",
              "      <th>YYYY/MM</th>\n",
              "      <th>Quarter</th>\n",
              "      <th>consolidation</th>\n",
              "      <th>Month</th>\n",
              "      <th>Currency</th>\n",
              "      <th>Total cash and cash equivalents</th>\n",
              "      <th>Total current financial assets at fair value through profit or loss</th>\n",
              "      <th>Financial assets at fair value through other comprehensive income - Current</th>\n",
              "      <th>Financial assets measured at amortized cost - Current</th>\n",
              "      <th>Current financial assets for hedging</th>\n",
              "      <th>...</th>\n",
              "      <th>Other equity - unearned compensation</th>\n",
              "      <th>Other equity, others</th>\n",
              "      <th>Total other equity interest</th>\n",
              "      <th>Treasury shares</th>\n",
              "      <th>Total equity attributable to owners of parent</th>\n",
              "      <th>Interests in the former associate or jointly controlled entity</th>\n",
              "      <th>Non-controlling interest in pre-acquisition share capital</th>\n",
              "      <th>Non-controlling interests</th>\n",
              "      <th>Total equity</th>\n",
              "      <th>Total liabilities &amp; equity</th>\n",
              "    </tr>\n",
              "    <tr>\n",
              "      <th>CO_ID</th>\n",
              "      <th></th>\n",
              "      <th></th>\n",
              "      <th></th>\n",
              "      <th></th>\n",
              "      <th></th>\n",
              "      <th></th>\n",
              "      <th></th>\n",
              "      <th></th>\n",
              "      <th></th>\n",
              "      <th></th>\n",
              "      <th></th>\n",
              "      <th></th>\n",
              "      <th></th>\n",
              "      <th></th>\n",
              "      <th></th>\n",
              "      <th></th>\n",
              "      <th></th>\n",
              "      <th></th>\n",
              "      <th></th>\n",
              "      <th></th>\n",
              "      <th></th>\n",
              "    </tr>\n",
              "  </thead>\n",
              "  <tbody>\n",
              "    <tr>\n",
              "      <th>2330 TSMC</th>\n",
              "      <td>45261.0</td>\n",
              "      <td>4.0</td>\n",
              "      <td>Y</td>\n",
              "      <td>12.0</td>\n",
              "      <td>NTD</td>\n",
              "      <td>1.465428e+09</td>\n",
              "      <td>924636.0</td>\n",
              "      <td>154530830.0</td>\n",
              "      <td>66761221.0</td>\n",
              "      <td>0.0</td>\n",
              "      <td>...</td>\n",
              "      <td>(293434.00)</td>\n",
              "      <td>0.0</td>\n",
              "      <td>(28314256.00)</td>\n",
              "      <td>0.00</td>\n",
              "      <td>3.458914e+09</td>\n",
              "      <td>0.0</td>\n",
              "      <td>0.0</td>\n",
              "      <td>24349220.0</td>\n",
              "      <td>3.483263e+09</td>\n",
              "      <td>5.532371e+09</td>\n",
              "    </tr>\n",
              "    <tr>\n",
              "      <th>3231 Wistron</th>\n",
              "      <td>45261.0</td>\n",
              "      <td>4.0</td>\n",
              "      <td>Y</td>\n",
              "      <td>12.0</td>\n",
              "      <td>NTD</td>\n",
              "      <td>7.523176e+07</td>\n",
              "      <td>4345292.0</td>\n",
              "      <td>0.0</td>\n",
              "      <td>0.0</td>\n",
              "      <td>0.0</td>\n",
              "      <td>...</td>\n",
              "      <td>(99732.00)</td>\n",
              "      <td>0.0</td>\n",
              "      <td>(1934548.00)</td>\n",
              "      <td>(909789.00)</td>\n",
              "      <td>1.042241e+08</td>\n",
              "      <td>0.0</td>\n",
              "      <td>0.0</td>\n",
              "      <td>24539061.0</td>\n",
              "      <td>1.287632e+08</td>\n",
              "      <td>4.523908e+08</td>\n",
              "    </tr>\n",
              "  </tbody>\n",
              "</table>\n",
              "<p>2 rows × 111 columns</p>\n",
              "</div>\n",
              "    <div class=\"colab-df-buttons\">\n",
              "\n",
              "  <div class=\"colab-df-container\">\n",
              "    <button class=\"colab-df-convert\" onclick=\"convertToInteractive('df-55335821-da6c-4148-994c-b57203e585bc')\"\n",
              "            title=\"Convert this dataframe to an interactive table.\"\n",
              "            style=\"display:none;\">\n",
              "\n",
              "  <svg xmlns=\"http://www.w3.org/2000/svg\" height=\"24px\" viewBox=\"0 -960 960 960\">\n",
              "    <path d=\"M120-120v-720h720v720H120Zm60-500h600v-160H180v160Zm220 220h160v-160H400v160Zm0 220h160v-160H400v160ZM180-400h160v-160H180v160Zm440 0h160v-160H620v160ZM180-180h160v-160H180v160Zm440 0h160v-160H620v160Z\"/>\n",
              "  </svg>\n",
              "    </button>\n",
              "\n",
              "  <style>\n",
              "    .colab-df-container {\n",
              "      display:flex;\n",
              "      gap: 12px;\n",
              "    }\n",
              "\n",
              "    .colab-df-convert {\n",
              "      background-color: #E8F0FE;\n",
              "      border: none;\n",
              "      border-radius: 50%;\n",
              "      cursor: pointer;\n",
              "      display: none;\n",
              "      fill: #1967D2;\n",
              "      height: 32px;\n",
              "      padding: 0 0 0 0;\n",
              "      width: 32px;\n",
              "    }\n",
              "\n",
              "    .colab-df-convert:hover {\n",
              "      background-color: #E2EBFA;\n",
              "      box-shadow: 0px 1px 2px rgba(60, 64, 67, 0.3), 0px 1px 3px 1px rgba(60, 64, 67, 0.15);\n",
              "      fill: #174EA6;\n",
              "    }\n",
              "\n",
              "    .colab-df-buttons div {\n",
              "      margin-bottom: 4px;\n",
              "    }\n",
              "\n",
              "    [theme=dark] .colab-df-convert {\n",
              "      background-color: #3B4455;\n",
              "      fill: #D2E3FC;\n",
              "    }\n",
              "\n",
              "    [theme=dark] .colab-df-convert:hover {\n",
              "      background-color: #434B5C;\n",
              "      box-shadow: 0px 1px 3px 1px rgba(0, 0, 0, 0.15);\n",
              "      filter: drop-shadow(0px 1px 2px rgba(0, 0, 0, 0.3));\n",
              "      fill: #FFFFFF;\n",
              "    }\n",
              "  </style>\n",
              "\n",
              "    <script>\n",
              "      const buttonEl =\n",
              "        document.querySelector('#df-55335821-da6c-4148-994c-b57203e585bc button.colab-df-convert');\n",
              "      buttonEl.style.display =\n",
              "        google.colab.kernel.accessAllowed ? 'block' : 'none';\n",
              "\n",
              "      async function convertToInteractive(key) {\n",
              "        const element = document.querySelector('#df-55335821-da6c-4148-994c-b57203e585bc');\n",
              "        const dataTable =\n",
              "          await google.colab.kernel.invokeFunction('convertToInteractive',\n",
              "                                                    [key], {});\n",
              "        if (!dataTable) return;\n",
              "\n",
              "        const docLinkHtml = 'Like what you see? Visit the ' +\n",
              "          '<a target=\"_blank\" href=https://colab.research.google.com/notebooks/data_table.ipynb>data table notebook</a>'\n",
              "          + ' to learn more about interactive tables.';\n",
              "        element.innerHTML = '';\n",
              "        dataTable['output_type'] = 'display_data';\n",
              "        await google.colab.output.renderOutput(dataTable, element);\n",
              "        const docLink = document.createElement('div');\n",
              "        docLink.innerHTML = docLinkHtml;\n",
              "        element.appendChild(docLink);\n",
              "      }\n",
              "    </script>\n",
              "  </div>\n",
              "\n",
              "\n",
              "<div id=\"df-9886892f-678b-40c3-bc31-c3dd47175745\">\n",
              "  <button class=\"colab-df-quickchart\" onclick=\"quickchart('df-9886892f-678b-40c3-bc31-c3dd47175745')\"\n",
              "            title=\"Suggest charts\"\n",
              "            style=\"display:none;\">\n",
              "\n",
              "<svg xmlns=\"http://www.w3.org/2000/svg\" height=\"24px\"viewBox=\"0 0 24 24\"\n",
              "     width=\"24px\">\n",
              "    <g>\n",
              "        <path d=\"M19 3H5c-1.1 0-2 .9-2 2v14c0 1.1.9 2 2 2h14c1.1 0 2-.9 2-2V5c0-1.1-.9-2-2-2zM9 17H7v-7h2v7zm4 0h-2V7h2v10zm4 0h-2v-4h2v4z\"/>\n",
              "    </g>\n",
              "</svg>\n",
              "  </button>\n",
              "\n",
              "<style>\n",
              "  .colab-df-quickchart {\n",
              "      --bg-color: #E8F0FE;\n",
              "      --fill-color: #1967D2;\n",
              "      --hover-bg-color: #E2EBFA;\n",
              "      --hover-fill-color: #174EA6;\n",
              "      --disabled-fill-color: #AAA;\n",
              "      --disabled-bg-color: #DDD;\n",
              "  }\n",
              "\n",
              "  [theme=dark] .colab-df-quickchart {\n",
              "      --bg-color: #3B4455;\n",
              "      --fill-color: #D2E3FC;\n",
              "      --hover-bg-color: #434B5C;\n",
              "      --hover-fill-color: #FFFFFF;\n",
              "      --disabled-bg-color: #3B4455;\n",
              "      --disabled-fill-color: #666;\n",
              "  }\n",
              "\n",
              "  .colab-df-quickchart {\n",
              "    background-color: var(--bg-color);\n",
              "    border: none;\n",
              "    border-radius: 50%;\n",
              "    cursor: pointer;\n",
              "    display: none;\n",
              "    fill: var(--fill-color);\n",
              "    height: 32px;\n",
              "    padding: 0;\n",
              "    width: 32px;\n",
              "  }\n",
              "\n",
              "  .colab-df-quickchart:hover {\n",
              "    background-color: var(--hover-bg-color);\n",
              "    box-shadow: 0 1px 2px rgba(60, 64, 67, 0.3), 0 1px 3px 1px rgba(60, 64, 67, 0.15);\n",
              "    fill: var(--button-hover-fill-color);\n",
              "  }\n",
              "\n",
              "  .colab-df-quickchart-complete:disabled,\n",
              "  .colab-df-quickchart-complete:disabled:hover {\n",
              "    background-color: var(--disabled-bg-color);\n",
              "    fill: var(--disabled-fill-color);\n",
              "    box-shadow: none;\n",
              "  }\n",
              "\n",
              "  .colab-df-spinner {\n",
              "    border: 2px solid var(--fill-color);\n",
              "    border-color: transparent;\n",
              "    border-bottom-color: var(--fill-color);\n",
              "    animation:\n",
              "      spin 1s steps(1) infinite;\n",
              "  }\n",
              "\n",
              "  @keyframes spin {\n",
              "    0% {\n",
              "      border-color: transparent;\n",
              "      border-bottom-color: var(--fill-color);\n",
              "      border-left-color: var(--fill-color);\n",
              "    }\n",
              "    20% {\n",
              "      border-color: transparent;\n",
              "      border-left-color: var(--fill-color);\n",
              "      border-top-color: var(--fill-color);\n",
              "    }\n",
              "    30% {\n",
              "      border-color: transparent;\n",
              "      border-left-color: var(--fill-color);\n",
              "      border-top-color: var(--fill-color);\n",
              "      border-right-color: var(--fill-color);\n",
              "    }\n",
              "    40% {\n",
              "      border-color: transparent;\n",
              "      border-right-color: var(--fill-color);\n",
              "      border-top-color: var(--fill-color);\n",
              "    }\n",
              "    60% {\n",
              "      border-color: transparent;\n",
              "      border-right-color: var(--fill-color);\n",
              "    }\n",
              "    80% {\n",
              "      border-color: transparent;\n",
              "      border-right-color: var(--fill-color);\n",
              "      border-bottom-color: var(--fill-color);\n",
              "    }\n",
              "    90% {\n",
              "      border-color: transparent;\n",
              "      border-bottom-color: var(--fill-color);\n",
              "    }\n",
              "  }\n",
              "</style>\n",
              "\n",
              "  <script>\n",
              "    async function quickchart(key) {\n",
              "      const quickchartButtonEl =\n",
              "        document.querySelector('#' + key + ' button');\n",
              "      quickchartButtonEl.disabled = true;  // To prevent multiple clicks.\n",
              "      quickchartButtonEl.classList.add('colab-df-spinner');\n",
              "      try {\n",
              "        const charts = await google.colab.kernel.invokeFunction(\n",
              "            'suggestCharts', [key], {});\n",
              "      } catch (error) {\n",
              "        console.error('Error during call to suggestCharts:', error);\n",
              "      }\n",
              "      quickchartButtonEl.classList.remove('colab-df-spinner');\n",
              "      quickchartButtonEl.classList.add('colab-df-quickchart-complete');\n",
              "    }\n",
              "    (() => {\n",
              "      let quickchartButtonEl =\n",
              "        document.querySelector('#df-9886892f-678b-40c3-bc31-c3dd47175745 button');\n",
              "      quickchartButtonEl.style.display =\n",
              "        google.colab.kernel.accessAllowed ? 'block' : 'none';\n",
              "    })();\n",
              "  </script>\n",
              "</div>\n",
              "\n",
              "  <div id=\"id_f6932d11-020e-4bcf-bd18-0e3c62fa89ad\">\n",
              "    <style>\n",
              "      .colab-df-generate {\n",
              "        background-color: #E8F0FE;\n",
              "        border: none;\n",
              "        border-radius: 50%;\n",
              "        cursor: pointer;\n",
              "        display: none;\n",
              "        fill: #1967D2;\n",
              "        height: 32px;\n",
              "        padding: 0 0 0 0;\n",
              "        width: 32px;\n",
              "      }\n",
              "\n",
              "      .colab-df-generate:hover {\n",
              "        background-color: #E2EBFA;\n",
              "        box-shadow: 0px 1px 2px rgba(60, 64, 67, 0.3), 0px 1px 3px 1px rgba(60, 64, 67, 0.15);\n",
              "        fill: #174EA6;\n",
              "      }\n",
              "\n",
              "      [theme=dark] .colab-df-generate {\n",
              "        background-color: #3B4455;\n",
              "        fill: #D2E3FC;\n",
              "      }\n",
              "\n",
              "      [theme=dark] .colab-df-generate:hover {\n",
              "        background-color: #434B5C;\n",
              "        box-shadow: 0px 1px 3px 1px rgba(0, 0, 0, 0.15);\n",
              "        filter: drop-shadow(0px 1px 2px rgba(0, 0, 0, 0.3));\n",
              "        fill: #FFFFFF;\n",
              "      }\n",
              "    </style>\n",
              "    <button class=\"colab-df-generate\" onclick=\"generateWithVariable('df1')\"\n",
              "            title=\"Generate code using this dataframe.\"\n",
              "            style=\"display:none;\">\n",
              "\n",
              "  <svg xmlns=\"http://www.w3.org/2000/svg\" height=\"24px\"viewBox=\"0 0 24 24\"\n",
              "       width=\"24px\">\n",
              "    <path d=\"M7,19H8.4L18.45,9,17,7.55,7,17.6ZM5,21V16.75L18.45,3.32a2,2,0,0,1,2.83,0l1.4,1.43a1.91,1.91,0,0,1,.58,1.4,1.91,1.91,0,0,1-.58,1.4L9.25,21ZM18.45,9,17,7.55Zm-12,3A5.31,5.31,0,0,0,4.9,8.1,5.31,5.31,0,0,0,1,6.5,5.31,5.31,0,0,0,4.9,4.9,5.31,5.31,0,0,0,6.5,1,5.31,5.31,0,0,0,8.1,4.9,5.31,5.31,0,0,0,12,6.5,5.46,5.46,0,0,0,6.5,12Z\"/>\n",
              "  </svg>\n",
              "    </button>\n",
              "    <script>\n",
              "      (() => {\n",
              "      const buttonEl =\n",
              "        document.querySelector('#id_f6932d11-020e-4bcf-bd18-0e3c62fa89ad button.colab-df-generate');\n",
              "      buttonEl.style.display =\n",
              "        google.colab.kernel.accessAllowed ? 'block' : 'none';\n",
              "\n",
              "      buttonEl.onclick = () => {\n",
              "        google.colab.notebook.generateWithVariable('df1');\n",
              "      }\n",
              "      })();\n",
              "    </script>\n",
              "  </div>\n",
              "\n",
              "    </div>\n",
              "  </div>\n"
            ],
            "application/vnd.google.colaboratory.intrinsic+json": {
              "type": "dataframe",
              "variable_name": "df1"
            }
          },
          "metadata": {},
          "execution_count": 7
        }
      ]
    },
    {
      "cell_type": "code",
      "source": [
        "url = \"https://raw.githubusercontent.com/kuo-yu-chen/fin-data/refs/heads/main/Income%20sheet.csv\""
      ],
      "metadata": {
        "id": "_mcVxUOUfnHN"
      },
      "execution_count": 9,
      "outputs": []
    },
    {
      "cell_type": "code",
      "source": [
        "df2 = pd.read_csv (url, index_col=0)"
      ],
      "metadata": {
        "id": "YHmt8vzJgTO7"
      },
      "execution_count": 10,
      "outputs": []
    },
    {
      "cell_type": "code",
      "source": [
        "df2"
      ],
      "metadata": {
        "colab": {
          "base_uri": "https://localhost:8080/",
          "height": 331
        },
        "id": "EvrrOnDygYRg",
        "outputId": "88cb5ae8-5b0f-427a-f3c3-8d32fc78f363"
      },
      "execution_count": 11,
      "outputs": [
        {
          "output_type": "execute_result",
          "data": {
            "text/plain": [
              "              YYYY/MM  Quarter consolidation  Month Currency  \\\n",
              "CO_ID                                                          \n",
              "2330 TSMC     2023/12        4             Y     12      NTD   \n",
              "3231 Wistron  2023/12        4             Y     12      NTD   \n",
              "\n",
              "              Gross operating revenue  Total rental revenue  \\\n",
              "CO_ID                                                         \n",
              "2330 TSMC                2.161736e+09                   0.0   \n",
              "3231 Wistron             8.670570e+08                   0.0   \n",
              "\n",
              "              Operating revenue - Disposal of lands  Interest revenue  \\\n",
              "CO_ID                                                                   \n",
              "2330 TSMC                                       0.0               0.0   \n",
              "3231 Wistron                                    0.0               0.0   \n",
              "\n",
              "              Operating revenue - disposal of investments  ...  \\\n",
              "CO_ID                                                      ...   \n",
              "2330 TSMC                                             0.0  ...   \n",
              "3231 Wistron                                          0.0  ...   \n",
              "\n",
              "              Preferred stock dividends  Diluted net income  \\\n",
              "CO_ID                                                         \n",
              "2330 TSMC                           0.0         838497664.0   \n",
              "3231 Wistron                        0.0          11471616.0   \n",
              "\n",
              "              Total diluted earnings per share  \\\n",
              "CO_ID                                            \n",
              "2330 TSMC                                32.34   \n",
              "3231 Wistron                              3.98   \n",
              "\n",
              "              Average diluted common shares (Thousand)  \\\n",
              "CO_ID                                                    \n",
              "2330 TSMC                                   25929267.0   \n",
              "3231 Wistron                                 2884650.0   \n",
              "\n",
              "              Earnings before interest and tax  \\\n",
              "CO_ID                                            \n",
              "2330 TSMC                          991170684.0   \n",
              "3231 Wistron                        33077941.0   \n",
              "\n",
              "              Earnings before interest, tax, depreciation and amortization  \\\n",
              "CO_ID                                                                        \n",
              "2330 TSMC                                          1.523362e+09              \n",
              "3231 Wistron                                       4.542310e+07              \n",
              "\n",
              "              Recurring net income  Treasury shares-buys back  \\\n",
              "CO_ID                                                           \n",
              "2330 TSMC              831702572.0                        0.0   \n",
              "3231 Wistron            18367210.0                    33269.0   \n",
              "\n",
              "              Treasury shares-subsidiary holding  Total treasury shares  \n",
              "CO_ID                                                                    \n",
              "2330 TSMC                                    0.0                    0.0  \n",
              "3231 Wistron                                 0.0                33269.0  \n",
              "\n",
              "[2 rows x 133 columns]"
            ],
            "text/html": [
              "\n",
              "  <div id=\"df-59e8e16a-0ebe-4efc-a240-3b934bbd0b23\" class=\"colab-df-container\">\n",
              "    <div>\n",
              "<style scoped>\n",
              "    .dataframe tbody tr th:only-of-type {\n",
              "        vertical-align: middle;\n",
              "    }\n",
              "\n",
              "    .dataframe tbody tr th {\n",
              "        vertical-align: top;\n",
              "    }\n",
              "\n",
              "    .dataframe thead th {\n",
              "        text-align: right;\n",
              "    }\n",
              "</style>\n",
              "<table border=\"1\" class=\"dataframe\">\n",
              "  <thead>\n",
              "    <tr style=\"text-align: right;\">\n",
              "      <th></th>\n",
              "      <th>YYYY/MM</th>\n",
              "      <th>Quarter</th>\n",
              "      <th>consolidation</th>\n",
              "      <th>Month</th>\n",
              "      <th>Currency</th>\n",
              "      <th>Gross operating revenue</th>\n",
              "      <th>Total rental revenue</th>\n",
              "      <th>Operating revenue - Disposal of lands</th>\n",
              "      <th>Interest revenue</th>\n",
              "      <th>Operating revenue - disposal of investments</th>\n",
              "      <th>...</th>\n",
              "      <th>Preferred stock dividends</th>\n",
              "      <th>Diluted net income</th>\n",
              "      <th>Total diluted earnings per share</th>\n",
              "      <th>Average diluted common shares (Thousand)</th>\n",
              "      <th>Earnings before interest and tax</th>\n",
              "      <th>Earnings before interest, tax, depreciation and amortization</th>\n",
              "      <th>Recurring net income</th>\n",
              "      <th>Treasury shares-buys back</th>\n",
              "      <th>Treasury shares-subsidiary holding</th>\n",
              "      <th>Total treasury shares</th>\n",
              "    </tr>\n",
              "    <tr>\n",
              "      <th>CO_ID</th>\n",
              "      <th></th>\n",
              "      <th></th>\n",
              "      <th></th>\n",
              "      <th></th>\n",
              "      <th></th>\n",
              "      <th></th>\n",
              "      <th></th>\n",
              "      <th></th>\n",
              "      <th></th>\n",
              "      <th></th>\n",
              "      <th></th>\n",
              "      <th></th>\n",
              "      <th></th>\n",
              "      <th></th>\n",
              "      <th></th>\n",
              "      <th></th>\n",
              "      <th></th>\n",
              "      <th></th>\n",
              "      <th></th>\n",
              "      <th></th>\n",
              "      <th></th>\n",
              "    </tr>\n",
              "  </thead>\n",
              "  <tbody>\n",
              "    <tr>\n",
              "      <th>2330 TSMC</th>\n",
              "      <td>2023/12</td>\n",
              "      <td>4</td>\n",
              "      <td>Y</td>\n",
              "      <td>12</td>\n",
              "      <td>NTD</td>\n",
              "      <td>2.161736e+09</td>\n",
              "      <td>0.0</td>\n",
              "      <td>0.0</td>\n",
              "      <td>0.0</td>\n",
              "      <td>0.0</td>\n",
              "      <td>...</td>\n",
              "      <td>0.0</td>\n",
              "      <td>838497664.0</td>\n",
              "      <td>32.34</td>\n",
              "      <td>25929267.0</td>\n",
              "      <td>991170684.0</td>\n",
              "      <td>1.523362e+09</td>\n",
              "      <td>831702572.0</td>\n",
              "      <td>0.0</td>\n",
              "      <td>0.0</td>\n",
              "      <td>0.0</td>\n",
              "    </tr>\n",
              "    <tr>\n",
              "      <th>3231 Wistron</th>\n",
              "      <td>2023/12</td>\n",
              "      <td>4</td>\n",
              "      <td>Y</td>\n",
              "      <td>12</td>\n",
              "      <td>NTD</td>\n",
              "      <td>8.670570e+08</td>\n",
              "      <td>0.0</td>\n",
              "      <td>0.0</td>\n",
              "      <td>0.0</td>\n",
              "      <td>0.0</td>\n",
              "      <td>...</td>\n",
              "      <td>0.0</td>\n",
              "      <td>11471616.0</td>\n",
              "      <td>3.98</td>\n",
              "      <td>2884650.0</td>\n",
              "      <td>33077941.0</td>\n",
              "      <td>4.542310e+07</td>\n",
              "      <td>18367210.0</td>\n",
              "      <td>33269.0</td>\n",
              "      <td>0.0</td>\n",
              "      <td>33269.0</td>\n",
              "    </tr>\n",
              "  </tbody>\n",
              "</table>\n",
              "<p>2 rows × 133 columns</p>\n",
              "</div>\n",
              "    <div class=\"colab-df-buttons\">\n",
              "\n",
              "  <div class=\"colab-df-container\">\n",
              "    <button class=\"colab-df-convert\" onclick=\"convertToInteractive('df-59e8e16a-0ebe-4efc-a240-3b934bbd0b23')\"\n",
              "            title=\"Convert this dataframe to an interactive table.\"\n",
              "            style=\"display:none;\">\n",
              "\n",
              "  <svg xmlns=\"http://www.w3.org/2000/svg\" height=\"24px\" viewBox=\"0 -960 960 960\">\n",
              "    <path d=\"M120-120v-720h720v720H120Zm60-500h600v-160H180v160Zm220 220h160v-160H400v160Zm0 220h160v-160H400v160ZM180-400h160v-160H180v160Zm440 0h160v-160H620v160ZM180-180h160v-160H180v160Zm440 0h160v-160H620v160Z\"/>\n",
              "  </svg>\n",
              "    </button>\n",
              "\n",
              "  <style>\n",
              "    .colab-df-container {\n",
              "      display:flex;\n",
              "      gap: 12px;\n",
              "    }\n",
              "\n",
              "    .colab-df-convert {\n",
              "      background-color: #E8F0FE;\n",
              "      border: none;\n",
              "      border-radius: 50%;\n",
              "      cursor: pointer;\n",
              "      display: none;\n",
              "      fill: #1967D2;\n",
              "      height: 32px;\n",
              "      padding: 0 0 0 0;\n",
              "      width: 32px;\n",
              "    }\n",
              "\n",
              "    .colab-df-convert:hover {\n",
              "      background-color: #E2EBFA;\n",
              "      box-shadow: 0px 1px 2px rgba(60, 64, 67, 0.3), 0px 1px 3px 1px rgba(60, 64, 67, 0.15);\n",
              "      fill: #174EA6;\n",
              "    }\n",
              "\n",
              "    .colab-df-buttons div {\n",
              "      margin-bottom: 4px;\n",
              "    }\n",
              "\n",
              "    [theme=dark] .colab-df-convert {\n",
              "      background-color: #3B4455;\n",
              "      fill: #D2E3FC;\n",
              "    }\n",
              "\n",
              "    [theme=dark] .colab-df-convert:hover {\n",
              "      background-color: #434B5C;\n",
              "      box-shadow: 0px 1px 3px 1px rgba(0, 0, 0, 0.15);\n",
              "      filter: drop-shadow(0px 1px 2px rgba(0, 0, 0, 0.3));\n",
              "      fill: #FFFFFF;\n",
              "    }\n",
              "  </style>\n",
              "\n",
              "    <script>\n",
              "      const buttonEl =\n",
              "        document.querySelector('#df-59e8e16a-0ebe-4efc-a240-3b934bbd0b23 button.colab-df-convert');\n",
              "      buttonEl.style.display =\n",
              "        google.colab.kernel.accessAllowed ? 'block' : 'none';\n",
              "\n",
              "      async function convertToInteractive(key) {\n",
              "        const element = document.querySelector('#df-59e8e16a-0ebe-4efc-a240-3b934bbd0b23');\n",
              "        const dataTable =\n",
              "          await google.colab.kernel.invokeFunction('convertToInteractive',\n",
              "                                                    [key], {});\n",
              "        if (!dataTable) return;\n",
              "\n",
              "        const docLinkHtml = 'Like what you see? Visit the ' +\n",
              "          '<a target=\"_blank\" href=https://colab.research.google.com/notebooks/data_table.ipynb>data table notebook</a>'\n",
              "          + ' to learn more about interactive tables.';\n",
              "        element.innerHTML = '';\n",
              "        dataTable['output_type'] = 'display_data';\n",
              "        await google.colab.output.renderOutput(dataTable, element);\n",
              "        const docLink = document.createElement('div');\n",
              "        docLink.innerHTML = docLinkHtml;\n",
              "        element.appendChild(docLink);\n",
              "      }\n",
              "    </script>\n",
              "  </div>\n",
              "\n",
              "\n",
              "<div id=\"df-55d95a12-3806-4054-af04-26ee570c3d15\">\n",
              "  <button class=\"colab-df-quickchart\" onclick=\"quickchart('df-55d95a12-3806-4054-af04-26ee570c3d15')\"\n",
              "            title=\"Suggest charts\"\n",
              "            style=\"display:none;\">\n",
              "\n",
              "<svg xmlns=\"http://www.w3.org/2000/svg\" height=\"24px\"viewBox=\"0 0 24 24\"\n",
              "     width=\"24px\">\n",
              "    <g>\n",
              "        <path d=\"M19 3H5c-1.1 0-2 .9-2 2v14c0 1.1.9 2 2 2h14c1.1 0 2-.9 2-2V5c0-1.1-.9-2-2-2zM9 17H7v-7h2v7zm4 0h-2V7h2v10zm4 0h-2v-4h2v4z\"/>\n",
              "    </g>\n",
              "</svg>\n",
              "  </button>\n",
              "\n",
              "<style>\n",
              "  .colab-df-quickchart {\n",
              "      --bg-color: #E8F0FE;\n",
              "      --fill-color: #1967D2;\n",
              "      --hover-bg-color: #E2EBFA;\n",
              "      --hover-fill-color: #174EA6;\n",
              "      --disabled-fill-color: #AAA;\n",
              "      --disabled-bg-color: #DDD;\n",
              "  }\n",
              "\n",
              "  [theme=dark] .colab-df-quickchart {\n",
              "      --bg-color: #3B4455;\n",
              "      --fill-color: #D2E3FC;\n",
              "      --hover-bg-color: #434B5C;\n",
              "      --hover-fill-color: #FFFFFF;\n",
              "      --disabled-bg-color: #3B4455;\n",
              "      --disabled-fill-color: #666;\n",
              "  }\n",
              "\n",
              "  .colab-df-quickchart {\n",
              "    background-color: var(--bg-color);\n",
              "    border: none;\n",
              "    border-radius: 50%;\n",
              "    cursor: pointer;\n",
              "    display: none;\n",
              "    fill: var(--fill-color);\n",
              "    height: 32px;\n",
              "    padding: 0;\n",
              "    width: 32px;\n",
              "  }\n",
              "\n",
              "  .colab-df-quickchart:hover {\n",
              "    background-color: var(--hover-bg-color);\n",
              "    box-shadow: 0 1px 2px rgba(60, 64, 67, 0.3), 0 1px 3px 1px rgba(60, 64, 67, 0.15);\n",
              "    fill: var(--button-hover-fill-color);\n",
              "  }\n",
              "\n",
              "  .colab-df-quickchart-complete:disabled,\n",
              "  .colab-df-quickchart-complete:disabled:hover {\n",
              "    background-color: var(--disabled-bg-color);\n",
              "    fill: var(--disabled-fill-color);\n",
              "    box-shadow: none;\n",
              "  }\n",
              "\n",
              "  .colab-df-spinner {\n",
              "    border: 2px solid var(--fill-color);\n",
              "    border-color: transparent;\n",
              "    border-bottom-color: var(--fill-color);\n",
              "    animation:\n",
              "      spin 1s steps(1) infinite;\n",
              "  }\n",
              "\n",
              "  @keyframes spin {\n",
              "    0% {\n",
              "      border-color: transparent;\n",
              "      border-bottom-color: var(--fill-color);\n",
              "      border-left-color: var(--fill-color);\n",
              "    }\n",
              "    20% {\n",
              "      border-color: transparent;\n",
              "      border-left-color: var(--fill-color);\n",
              "      border-top-color: var(--fill-color);\n",
              "    }\n",
              "    30% {\n",
              "      border-color: transparent;\n",
              "      border-left-color: var(--fill-color);\n",
              "      border-top-color: var(--fill-color);\n",
              "      border-right-color: var(--fill-color);\n",
              "    }\n",
              "    40% {\n",
              "      border-color: transparent;\n",
              "      border-right-color: var(--fill-color);\n",
              "      border-top-color: var(--fill-color);\n",
              "    }\n",
              "    60% {\n",
              "      border-color: transparent;\n",
              "      border-right-color: var(--fill-color);\n",
              "    }\n",
              "    80% {\n",
              "      border-color: transparent;\n",
              "      border-right-color: var(--fill-color);\n",
              "      border-bottom-color: var(--fill-color);\n",
              "    }\n",
              "    90% {\n",
              "      border-color: transparent;\n",
              "      border-bottom-color: var(--fill-color);\n",
              "    }\n",
              "  }\n",
              "</style>\n",
              "\n",
              "  <script>\n",
              "    async function quickchart(key) {\n",
              "      const quickchartButtonEl =\n",
              "        document.querySelector('#' + key + ' button');\n",
              "      quickchartButtonEl.disabled = true;  // To prevent multiple clicks.\n",
              "      quickchartButtonEl.classList.add('colab-df-spinner');\n",
              "      try {\n",
              "        const charts = await google.colab.kernel.invokeFunction(\n",
              "            'suggestCharts', [key], {});\n",
              "      } catch (error) {\n",
              "        console.error('Error during call to suggestCharts:', error);\n",
              "      }\n",
              "      quickchartButtonEl.classList.remove('colab-df-spinner');\n",
              "      quickchartButtonEl.classList.add('colab-df-quickchart-complete');\n",
              "    }\n",
              "    (() => {\n",
              "      let quickchartButtonEl =\n",
              "        document.querySelector('#df-55d95a12-3806-4054-af04-26ee570c3d15 button');\n",
              "      quickchartButtonEl.style.display =\n",
              "        google.colab.kernel.accessAllowed ? 'block' : 'none';\n",
              "    })();\n",
              "  </script>\n",
              "</div>\n",
              "\n",
              "  <div id=\"id_1fd963c8-97ed-4c35-982c-53bce22f7293\">\n",
              "    <style>\n",
              "      .colab-df-generate {\n",
              "        background-color: #E8F0FE;\n",
              "        border: none;\n",
              "        border-radius: 50%;\n",
              "        cursor: pointer;\n",
              "        display: none;\n",
              "        fill: #1967D2;\n",
              "        height: 32px;\n",
              "        padding: 0 0 0 0;\n",
              "        width: 32px;\n",
              "      }\n",
              "\n",
              "      .colab-df-generate:hover {\n",
              "        background-color: #E2EBFA;\n",
              "        box-shadow: 0px 1px 2px rgba(60, 64, 67, 0.3), 0px 1px 3px 1px rgba(60, 64, 67, 0.15);\n",
              "        fill: #174EA6;\n",
              "      }\n",
              "\n",
              "      [theme=dark] .colab-df-generate {\n",
              "        background-color: #3B4455;\n",
              "        fill: #D2E3FC;\n",
              "      }\n",
              "\n",
              "      [theme=dark] .colab-df-generate:hover {\n",
              "        background-color: #434B5C;\n",
              "        box-shadow: 0px 1px 3px 1px rgba(0, 0, 0, 0.15);\n",
              "        filter: drop-shadow(0px 1px 2px rgba(0, 0, 0, 0.3));\n",
              "        fill: #FFFFFF;\n",
              "      }\n",
              "    </style>\n",
              "    <button class=\"colab-df-generate\" onclick=\"generateWithVariable('df2')\"\n",
              "            title=\"Generate code using this dataframe.\"\n",
              "            style=\"display:none;\">\n",
              "\n",
              "  <svg xmlns=\"http://www.w3.org/2000/svg\" height=\"24px\"viewBox=\"0 0 24 24\"\n",
              "       width=\"24px\">\n",
              "    <path d=\"M7,19H8.4L18.45,9,17,7.55,7,17.6ZM5,21V16.75L18.45,3.32a2,2,0,0,1,2.83,0l1.4,1.43a1.91,1.91,0,0,1,.58,1.4,1.91,1.91,0,0,1-.58,1.4L9.25,21ZM18.45,9,17,7.55Zm-12,3A5.31,5.31,0,0,0,4.9,8.1,5.31,5.31,0,0,0,1,6.5,5.31,5.31,0,0,0,4.9,4.9,5.31,5.31,0,0,0,6.5,1,5.31,5.31,0,0,0,8.1,4.9,5.31,5.31,0,0,0,12,6.5,5.46,5.46,0,0,0,6.5,12Z\"/>\n",
              "  </svg>\n",
              "    </button>\n",
              "    <script>\n",
              "      (() => {\n",
              "      const buttonEl =\n",
              "        document.querySelector('#id_1fd963c8-97ed-4c35-982c-53bce22f7293 button.colab-df-generate');\n",
              "      buttonEl.style.display =\n",
              "        google.colab.kernel.accessAllowed ? 'block' : 'none';\n",
              "\n",
              "      buttonEl.onclick = () => {\n",
              "        google.colab.notebook.generateWithVariable('df2');\n",
              "      }\n",
              "      })();\n",
              "    </script>\n",
              "  </div>\n",
              "\n",
              "    </div>\n",
              "  </div>\n"
            ],
            "application/vnd.google.colaboratory.intrinsic+json": {
              "type": "dataframe",
              "variable_name": "df2"
            }
          },
          "metadata": {},
          "execution_count": 11
        }
      ]
    },
    {
      "cell_type": "code",
      "source": [
        "df1.columns"
      ],
      "metadata": {
        "colab": {
          "base_uri": "https://localhost:8080/"
        },
        "id": "AXPF6e6mg_h6",
        "outputId": "41a18e10-206e-4097-9304-7290e929de98"
      },
      "execution_count": 15,
      "outputs": [
        {
          "output_type": "execute_result",
          "data": {
            "text/plain": [
              "Index(['YYYY/MM', 'Quarter', 'consolidation', 'Month', 'Currency',\n",
              "       'Total cash and cash equivalents',\n",
              "       'Total current financial assets at fair value through profit or loss',\n",
              "       'Financial assets at fair value through other comprehensive income - Current',\n",
              "       'Financial assets measured at amortized cost - Current',\n",
              "       'Current financial assets for hedging',\n",
              "       ...\n",
              "       'Other equity - unearned compensation', 'Other equity, others',\n",
              "       'Total other equity interest', 'Treasury shares',\n",
              "       'Total equity attributable to owners of parent',\n",
              "       'Interests in the former associate or jointly controlled entity',\n",
              "       'Non-controlling interest in pre-acquisition share capital',\n",
              "       'Non-controlling interests', 'Total equity',\n",
              "       'Total liabilities & equity'],\n",
              "      dtype='object', length=111)"
            ]
          },
          "metadata": {},
          "execution_count": 15
        }
      ]
    },
    {
      "cell_type": "code",
      "source": [
        "df2.columns"
      ],
      "metadata": {
        "colab": {
          "base_uri": "https://localhost:8080/"
        },
        "id": "vv7wNz0RigUf",
        "outputId": "335cc254-8b3e-4e5a-9a26-423843740170"
      },
      "execution_count": 16,
      "outputs": [
        {
          "output_type": "execute_result",
          "data": {
            "text/plain": [
              "Index(['YYYY/MM', 'Quarter', 'consolidation', 'Month', 'Currency',\n",
              "       'Gross operating revenue', 'Total rental revenue',\n",
              "       'Operating revenue - Disposal of lands', 'Interest revenue',\n",
              "       'Operating revenue - disposal of investments',\n",
              "       ...\n",
              "       'Preferred stock dividends', 'Diluted net income',\n",
              "       'Total diluted earnings per share',\n",
              "       'Average diluted common shares (Thousand)',\n",
              "       'Earnings before interest and tax',\n",
              "       'Earnings before interest, tax, depreciation and amortization',\n",
              "       'Recurring net income', 'Treasury shares-buys back',\n",
              "       'Treasury shares-subsidiary holding', 'Total treasury shares'],\n",
              "      dtype='object', length=133)"
            ]
          },
          "metadata": {},
          "execution_count": 16
        }
      ]
    },
    {
      "cell_type": "code",
      "source": [
        "df1.index"
      ],
      "metadata": {
        "colab": {
          "base_uri": "https://localhost:8080/"
        },
        "id": "t4C1GHFmihwA",
        "outputId": "55ca3eca-9330-4805-9f9f-c9e5a08cb843"
      },
      "execution_count": 17,
      "outputs": [
        {
          "output_type": "execute_result",
          "data": {
            "text/plain": [
              "Index(['2330 TSMC', '3231 Wistron'], dtype='object', name='CO_ID')"
            ]
          },
          "metadata": {},
          "execution_count": 17
        }
      ]
    },
    {
      "cell_type": "code",
      "source": [
        "df2.index"
      ],
      "metadata": {
        "colab": {
          "base_uri": "https://localhost:8080/"
        },
        "id": "QPGsT2hNil3x",
        "outputId": "7615f08c-f18d-4dbd-c069-798ff82ead46"
      },
      "execution_count": 18,
      "outputs": [
        {
          "output_type": "execute_result",
          "data": {
            "text/plain": [
              "Index(['2330 TSMC', '3231 Wistron'], dtype='object', name='CO_ID')"
            ]
          },
          "metadata": {},
          "execution_count": 18
        }
      ]
    },
    {
      "cell_type": "code",
      "source": [
        "df1.loc['2330 TSMC','Total current assets']"
      ],
      "metadata": {
        "colab": {
          "base_uri": "https://localhost:8080/"
        },
        "id": "cW4Z-u2Oinsw",
        "outputId": "a23366f2-08fe-4cab-a56f-b0d16623513c"
      },
      "execution_count": 23,
      "outputs": [
        {
          "output_type": "execute_result",
          "data": {
            "text/plain": [
              "2194032910.0"
            ]
          },
          "metadata": {},
          "execution_count": 23
        }
      ]
    },
    {
      "cell_type": "code",
      "source": [
        "df1.loc['2330 TSMC','Total current liabilities']"
      ],
      "metadata": {
        "colab": {
          "base_uri": "https://localhost:8080/"
        },
        "id": "wBWG4LKtiqwG",
        "outputId": "ff0fb3d2-8cb7-4dae-fe77-fdacfd313095"
      },
      "execution_count": 26,
      "outputs": [
        {
          "output_type": "execute_result",
          "data": {
            "text/plain": [
              "913583316.0"
            ]
          },
          "metadata": {},
          "execution_count": 26
        }
      ]
    },
    {
      "cell_type": "code",
      "source": [
        "df1.loc['2330 TSMC','Total assets']"
      ],
      "metadata": {
        "colab": {
          "base_uri": "https://localhost:8080/"
        },
        "id": "pYMbBRcQjQUg",
        "outputId": "b5f12169-f8fd-4753-95a3-f251393674ff"
      },
      "execution_count": 29,
      "outputs": [
        {
          "output_type": "execute_result",
          "data": {
            "text/plain": [
              "5532371215.0"
            ]
          },
          "metadata": {},
          "execution_count": 29
        }
      ]
    },
    {
      "cell_type": "code",
      "source": [
        "A_2330 = (df1.loc['2330 TSMC','Total current assets'] - df1.loc['2330 TSMC','Total current liabilities'])/df1.loc['2330 TSMC','Total assets']"
      ],
      "metadata": {
        "id": "6AwwyTtAjXcV"
      },
      "execution_count": 32,
      "outputs": []
    },
    {
      "cell_type": "code",
      "source": [
        "A_2330"
      ],
      "metadata": {
        "colab": {
          "base_uri": "https://localhost:8080/"
        },
        "id": "qkoPt8lnjvp_",
        "outputId": "95ee0a7d-1d31-4dda-f6eb-9953c255fa81"
      },
      "execution_count": 33,
      "outputs": [
        {
          "output_type": "execute_result",
          "data": {
            "text/plain": [
              "0.231446796362525"
            ]
          },
          "metadata": {},
          "execution_count": 33
        }
      ]
    },
    {
      "cell_type": "code",
      "source": [
        "B_2330 = df1.loc['2330 TSMC','Total retained earnings'] /df1.loc['2330 TSMC','Total assets']"
      ],
      "metadata": {
        "id": "7b5lDmA9jwAu"
      },
      "execution_count": 35,
      "outputs": []
    },
    {
      "cell_type": "code",
      "source": [
        "B_2330"
      ],
      "metadata": {
        "colab": {
          "base_uri": "https://localhost:8080/"
        },
        "id": "mYtxkvUwknUz",
        "outputId": "bbe4c6dc-7eb6-4585-89e3-3394ad87bd62"
      },
      "execution_count": 36,
      "outputs": [
        {
          "output_type": "execute_result",
          "data": {
            "text/plain": [
              "0.5708277100852496"
            ]
          },
          "metadata": {},
          "execution_count": 36
        }
      ]
    },
    {
      "cell_type": "code",
      "source": [
        "C_2330 = df2.loc['2330 TSMC','Earnings before interest and tax'] /df1.loc['2330 TSMC','Total assets']"
      ],
      "metadata": {
        "id": "SkbNxEYdkrPG"
      },
      "execution_count": 38,
      "outputs": []
    },
    {
      "cell_type": "code",
      "source": [
        "C_2330"
      ],
      "metadata": {
        "colab": {
          "base_uri": "https://localhost:8080/"
        },
        "id": "dN2JTps3lB34",
        "outputId": "92963c20-93c5-4dcf-8d9f-ed46a209128d"
      },
      "execution_count": 39,
      "outputs": [
        {
          "output_type": "execute_result",
          "data": {
            "text/plain": [
              "0.1791583835359103"
            ]
          },
          "metadata": {},
          "execution_count": 39
        }
      ]
    },
    {
      "cell_type": "code",
      "source": [
        "D_2330 = df1.loc['2330 TSMC','Total equity'] /df1.loc['2330 TSMC','Total assets']"
      ],
      "metadata": {
        "id": "Dkdhwgn9lCz8"
      },
      "execution_count": 40,
      "outputs": []
    },
    {
      "cell_type": "code",
      "source": [
        "D_2330"
      ],
      "metadata": {
        "colab": {
          "base_uri": "https://localhost:8080/"
        },
        "id": "gyEUCtoMlPz_",
        "outputId": "a5c5a5a5-f74b-4671-c7c4-1fdd3875eca3"
      },
      "execution_count": 41,
      "outputs": [
        {
          "output_type": "execute_result",
          "data": {
            "text/plain": [
              "0.6296148092079898"
            ]
          },
          "metadata": {},
          "execution_count": 41
        }
      ]
    },
    {
      "cell_type": "code",
      "source": [
        "E_2330 = df2.loc['2330 TSMC','Total operating revenue'] /df1.loc['2330 TSMC','Total assets']"
      ],
      "metadata": {
        "id": "Ugf2O__XlRNP"
      },
      "execution_count": 43,
      "outputs": []
    },
    {
      "cell_type": "code",
      "source": [
        "E_2330"
      ],
      "metadata": {
        "colab": {
          "base_uri": "https://localhost:8080/"
        },
        "id": "XLgA57Lnlo0T",
        "outputId": "c6b2311d-e0ba-422e-f880-770ee586493f"
      },
      "execution_count": 44,
      "outputs": [
        {
          "output_type": "execute_result",
          "data": {
            "text/plain": [
              "0.3907430931494354"
            ]
          },
          "metadata": {},
          "execution_count": 44
        }
      ]
    },
    {
      "cell_type": "code",
      "source": [
        "Z_score_2330 = 1.2*A_2330 + 1.4*B_2330 + 3.3*C_2330 + 0.6*D_2330 +1.0*E_2330"
      ],
      "metadata": {
        "id": "-RNRvWsplpQI"
      },
      "execution_count": 46,
      "outputs": []
    },
    {
      "cell_type": "code",
      "source": [
        "Z_score_2330"
      ],
      "metadata": {
        "colab": {
          "base_uri": "https://localhost:8080/"
        },
        "id": "b1tcwLsQlslA",
        "outputId": "94aab779-a9da-41ce-c653-26d45f7f545a"
      },
      "execution_count": 47,
      "outputs": [
        {
          "output_type": "execute_result",
          "data": {
            "text/plain": [
              "2.4366295940971128"
            ]
          },
          "metadata": {},
          "execution_count": 47
        }
      ]
    },
    {
      "cell_type": "code",
      "source": [
        "X1 ='Total current assets'\n",
        "X2 ='Total current liabilities'\n",
        "X3 ='Total assets'\n",
        "X4 ='Total retained earnings'\n",
        "X5 ='Earnings before interest and tax'\n",
        "X6 ='Total equity'\n",
        "X7 ='Total operating revenue'\n",
        "TSMC ='2330 TSMC'\n",
        "WIS ='3231 Wistron'\n"
      ],
      "metadata": {
        "id": "w5K3FGFUl3uj"
      },
      "execution_count": 59,
      "outputs": []
    },
    {
      "cell_type": "code",
      "source": [
        "df1.loc[TSMC,X3]"
      ],
      "metadata": {
        "colab": {
          "base_uri": "https://localhost:8080/"
        },
        "id": "RDj7bGbFmYmB",
        "outputId": "c245df9b-5cd7-42f1-8265-526463355e58"
      },
      "execution_count": 58,
      "outputs": [
        {
          "output_type": "execute_result",
          "data": {
            "text/plain": [
              "5532371215.0"
            ]
          },
          "metadata": {},
          "execution_count": 58
        }
      ]
    },
    {
      "cell_type": "code",
      "source": [
        "A_TSMC = (df1.loc[TSMC,X1] - df1.loc[TSMC,X2])/df1.loc[TSMC, X3]"
      ],
      "metadata": {
        "id": "bfZAMr1BmhwM"
      },
      "execution_count": 61,
      "outputs": []
    },
    {
      "cell_type": "code",
      "source": [
        "A_TSMC"
      ],
      "metadata": {
        "colab": {
          "base_uri": "https://localhost:8080/"
        },
        "id": "aaeGJ6ixoQ8y",
        "outputId": "f701c7ff-d907-4563-f0d7-c7d466bcc7cd"
      },
      "execution_count": 62,
      "outputs": [
        {
          "output_type": "execute_result",
          "data": {
            "text/plain": [
              "0.231446796362525"
            ]
          },
          "metadata": {},
          "execution_count": 62
        }
      ]
    },
    {
      "cell_type": "code",
      "source": [
        "B_TSMC = df1.loc[TSMC,X4] /df1.loc[TSMC, X3]"
      ],
      "metadata": {
        "id": "bea1Pp_coTYz"
      },
      "execution_count": 66,
      "outputs": []
    },
    {
      "cell_type": "code",
      "source": [
        "B_TSMC"
      ],
      "metadata": {
        "colab": {
          "base_uri": "https://localhost:8080/"
        },
        "id": "3i7DJN05oo-5",
        "outputId": "ede81328-c808-4ec8-a1fd-cde85889b0df"
      },
      "execution_count": 67,
      "outputs": [
        {
          "output_type": "execute_result",
          "data": {
            "text/plain": [
              "0.5708277100852496"
            ]
          },
          "metadata": {},
          "execution_count": 67
        }
      ]
    },
    {
      "cell_type": "code",
      "source": [
        "C_TSMC = df2.loc[TSMC,X5] /df1.loc[TSMC, X3]"
      ],
      "metadata": {
        "id": "j5LwedVloqA4"
      },
      "execution_count": 68,
      "outputs": []
    },
    {
      "cell_type": "code",
      "source": [
        "C_TSMC"
      ],
      "metadata": {
        "colab": {
          "base_uri": "https://localhost:8080/"
        },
        "id": "77yLCor-o6LI",
        "outputId": "801dc857-d0c0-434f-dfe3-d7233c8c1ac0"
      },
      "execution_count": 69,
      "outputs": [
        {
          "output_type": "execute_result",
          "data": {
            "text/plain": [
              "0.1791583835359103"
            ]
          },
          "metadata": {},
          "execution_count": 69
        }
      ]
    },
    {
      "cell_type": "code",
      "source": [
        "D_TSMC = df1.loc[TSMC,X6] /df1.loc[TSMC, X3]"
      ],
      "metadata": {
        "id": "LXytsgw5o6YM"
      },
      "execution_count": 74,
      "outputs": []
    },
    {
      "cell_type": "code",
      "source": [
        "D_TSMC"
      ],
      "metadata": {
        "colab": {
          "base_uri": "https://localhost:8080/"
        },
        "id": "nd7KzYcppIVZ",
        "outputId": "1821e8cb-fc05-4373-e802-037d08d0f1f7"
      },
      "execution_count": 75,
      "outputs": [
        {
          "output_type": "execute_result",
          "data": {
            "text/plain": [
              "0.6296148092079898"
            ]
          },
          "metadata": {},
          "execution_count": 75
        }
      ]
    },
    {
      "cell_type": "code",
      "source": [
        "E_TSMC = df2.loc[TSMC,X7] /df1.loc[TSMC, X3]"
      ],
      "metadata": {
        "id": "FzRWH0nBpJYA"
      },
      "execution_count": 77,
      "outputs": []
    },
    {
      "cell_type": "code",
      "source": [
        "E_TSMC"
      ],
      "metadata": {
        "colab": {
          "base_uri": "https://localhost:8080/"
        },
        "id": "2NfEC32VpW80",
        "outputId": "b3110365-8860-4817-87fc-7228aac29a01"
      },
      "execution_count": 78,
      "outputs": [
        {
          "output_type": "execute_result",
          "data": {
            "text/plain": [
              "0.3907430931494354"
            ]
          },
          "metadata": {},
          "execution_count": 78
        }
      ]
    },
    {
      "cell_type": "code",
      "source": [
        "Z_score_TSMC = 1.2*A_TSMC + 1.4*B_TSMC + 3.3*C_TSMC + 0.6*D_TSMC +1.0*E_TSMC"
      ],
      "metadata": {
        "id": "ss3AC4iApZaT"
      },
      "execution_count": 80,
      "outputs": []
    },
    {
      "cell_type": "code",
      "source": [
        "Z_score_TSMC"
      ],
      "metadata": {
        "colab": {
          "base_uri": "https://localhost:8080/"
        },
        "id": "eG9mTcKEpm6K",
        "outputId": "fff1066f-51d5-496e-a9f3-7a98de97b1b3"
      },
      "execution_count": 81,
      "outputs": [
        {
          "output_type": "execute_result",
          "data": {
            "text/plain": [
              "2.4366295940971128"
            ]
          },
          "metadata": {},
          "execution_count": 81
        }
      ]
    },
    {
      "cell_type": "code",
      "source": [],
      "metadata": {
        "id": "6ucfrDk1ptV8"
      },
      "execution_count": null,
      "outputs": []
    }
  ]
}